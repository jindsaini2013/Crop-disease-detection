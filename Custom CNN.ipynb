{
 "cells": [
  {
   "cell_type": "code",
   "execution_count": null,
   "metadata": {
    "_cell_guid": "b1076dfc-b9ad-4769-8c92-a6c4dae69d19",
    "_uuid": "8f2839f25d086af736a60e9eeb907d3b93b6e0e5",
    "execution": {
     "iopub.execute_input": "2024-10-23T05:05:21.137208Z",
     "iopub.status.busy": "2024-10-23T05:05:21.136547Z",
     "iopub.status.idle": "2024-10-23T05:05:36.319254Z",
     "shell.execute_reply": "2024-10-23T05:05:36.318014Z",
     "shell.execute_reply.started": "2024-10-23T05:05:21.137147Z"
    },
    "trusted": true
   },
   "outputs": [],
   "source": [
    "import tensorflow as tf\n",
    "from tensorflow.keras.preprocessing.image import ImageDataGenerator\n",
    "from tensorflow.keras.layers import Dense, Conv2D, MaxPooling2D, Flatten, Dropout, BatchNormalization\n",
    "from tensorflow.keras.models import Sequential\n",
    "from tensorflow.keras.optimizers import Adam\n",
    "from tensorflow.keras.callbacks import EarlyStopping, ReduceLROnPlateau"
   ]
  },
  {
   "cell_type": "code",
   "execution_count": null,
   "metadata": {
    "execution": {
     "iopub.execute_input": "2024-10-23T05:05:36.322299Z",
     "iopub.status.busy": "2024-10-23T05:05:36.321587Z",
     "iopub.status.idle": "2024-10-23T05:05:36.327423Z",
     "shell.execute_reply": "2024-10-23T05:05:36.326376Z",
     "shell.execute_reply.started": "2024-10-23T05:05:36.322236Z"
    },
    "trusted": true
   },
   "outputs": [],
   "source": [
    "# Dataset path\n",
    "dataset_dir = '/kaggle/input/capstone-dataset'"
   ]
  },
  {
   "cell_type": "code",
   "execution_count": null,
   "metadata": {
    "execution": {
     "iopub.execute_input": "2024-10-23T05:05:36.329851Z",
     "iopub.status.busy": "2024-10-23T05:05:36.329415Z",
     "iopub.status.idle": "2024-10-23T05:05:36.345719Z",
     "shell.execute_reply": "2024-10-23T05:05:36.344358Z",
     "shell.execute_reply.started": "2024-10-23T05:05:36.329768Z"
    },
    "trusted": true
   },
   "outputs": [],
   "source": [
    "# Data augmentation and preprocessing\n",
    "datagen = ImageDataGenerator(\n",
    "    rescale=1./255,\n",
    "    rotation_range=40,\n",
    "    width_shift_range=0.3,\n",
    "    height_shift_range=0.3,\n",
    "    shear_range=0.2,\n",
    "    zoom_range=0.3,\n",
    "    horizontal_flip=True,\n",
    "    fill_mode='nearest',\n",
    "    validation_split=0.2  # 20% of the data for validation\n",
    ")"
   ]
  },
  {
   "cell_type": "code",
   "execution_count": null,
   "metadata": {
    "execution": {
     "iopub.execute_input": "2024-10-23T05:05:36.347837Z",
     "iopub.status.busy": "2024-10-23T05:05:36.347343Z",
     "iopub.status.idle": "2024-10-23T05:05:41.749723Z",
     "shell.execute_reply": "2024-10-23T05:05:41.748239Z",
     "shell.execute_reply.started": "2024-10-23T05:05:36.347771Z"
    },
    "trusted": true
   },
   "outputs": [],
   "source": [
    "# Load the training data\n",
    "train_generator = datagen.flow_from_directory(\n",
    "    dataset_dir,\n",
    "    target_size=(128, 128),  # Image size remains at 128x128\n",
    "    batch_size=32,\n",
    "    class_mode='categorical',\n",
    "    subset='training'\n",
    ")\n",
    "\n",
    "# Load the validation data\n",
    "validation_generator = datagen.flow_from_directory(\n",
    "    dataset_dir,\n",
    "    target_size=(128, 128),\n",
    "    batch_size=32,\n",
    "    class_mode='categorical',\n",
    "    subset='validation'\n",
    ")"
   ]
  },
  {
   "cell_type": "code",
   "execution_count": null,
   "metadata": {
    "execution": {
     "iopub.execute_input": "2024-10-23T05:05:41.753817Z",
     "iopub.status.busy": "2024-10-23T05:05:41.752907Z",
     "iopub.status.idle": "2024-10-23T05:05:42.223749Z",
     "shell.execute_reply": "2024-10-23T05:05:42.222516Z",
     "shell.execute_reply.started": "2024-10-23T05:05:41.753748Z"
    },
    "trusted": true
   },
   "outputs": [],
   "source": [
    "# Define a deeper CNN model from scratch\n",
    "model = Sequential()\n",
    "\n",
    "# First convolutional block\n",
    "model.add(Conv2D(32, (3, 3), activation='relu', input_shape=(128, 128, 3)))\n",
    "model.add(BatchNormalization())\n",
    "model.add(MaxPooling2D((2, 2)))\n",
    "\n",
    "# Second convolutional block\n",
    "model.add(Conv2D(64, (3, 3), activation='relu'))\n",
    "model.add(BatchNormalization())\n",
    "model.add(MaxPooling2D((2, 2)))\n",
    "\n",
    "# Third convolutional block\n",
    "model.add(Conv2D(128, (3, 3), activation='relu'))\n",
    "model.add(BatchNormalization())\n",
    "model.add(MaxPooling2D((2, 2)))\n",
    "\n",
    "# Fourth convolutional block\n",
    "model.add(Conv2D(256, (3, 3), activation='relu'))\n",
    "model.add(BatchNormalization())\n",
    "model.add(MaxPooling2D((2, 2)))\n",
    "\n",
    "# Fifth convolutional block (newly added)\n",
    "model.add(Conv2D(512, (3, 3), activation='relu'))\n",
    "model.add(BatchNormalization())\n",
    "model.add(MaxPooling2D((2, 2)))\n",
    "\n",
    "# Flatten the output\n",
    "model.add(Flatten())\n",
    "\n",
    "# Fully connected layers\n",
    "model.add(Dense(512, activation='relu'))\n",
    "model.add(Dropout(0.5))\n",
    "model.add(Dense(256, activation='relu'))\n",
    "model.add(Dropout(0.5))\n",
    "\n",
    "# Output layer\n",
    "model.add(Dense(train_generator.num_classes, activation='softmax'))\n",
    "\n",
    "# Compile the model\n",
    "model.compile(optimizer=Adam(learning_rate=0.0001),loss='categorical_crossentropy',\n",
    "              metrics=['accuracy'])\n",
    "\n",
    "# Introduce early stopping and learning rate reduction on plateau\n",
    "callbacks = [\n",
    "    EarlyStopping(monitor='val_loss', patience=5, restore_best_weights=True),\n",
    "    ReduceLROnPlateau(monitor='val_loss', factor=0.1, patience=3)\n",
    "]"
   ]
  },
  {
   "cell_type": "code",
   "execution_count": null,
   "metadata": {
    "execution": {
     "iopub.execute_input": "2024-10-14T19:24:24.847148Z",
     "iopub.status.busy": "2024-10-14T19:24:24.846141Z",
     "iopub.status.idle": "2024-10-14T20:40:33.594386Z",
     "shell.execute_reply": "2024-10-14T20:40:33.590896Z",
     "shell.execute_reply.started": "2024-10-14T19:24:24.847098Z"
    },
    "trusted": true
   },
   "outputs": [],
   "source": [
    "# Train the model\n",
    "history = model.fit(\n",
    "    train_generator,\n",
    "    epochs=20,  # Increase epochs if needed\n",
    "    validation_data=validation_generator,\n",
    "    steps_per_epoch=train_generator.samples // train_generator.batch_size,\n",
    "    validation_steps=validation_generator.samples // validation_generator.batch_size,\n",
    "    callbacks=callbacks\n",
    ")"
   ]
  },
  {
   "cell_type": "code",
   "execution_count": null,
   "metadata": {
    "execution": {
     "iopub.execute_input": "2024-10-14T20:52:00.844030Z",
     "iopub.status.busy": "2024-10-14T20:52:00.843134Z",
     "iopub.status.idle": "2024-10-14T20:52:56.003474Z",
     "shell.execute_reply": "2024-10-14T20:52:56.002313Z",
     "shell.execute_reply.started": "2024-10-14T20:52:00.843977Z"
    },
    "trusted": true
   },
   "outputs": [],
   "source": [
    "# Evaluate the model on the validation set\n",
    "val_loss, val_accuracy = model.evaluate(validation_generator)\n",
    "print(f'Validation Accuracy: {val_accuracy:.2f}')"
   ]
  },
  {
   "cell_type": "code",
   "execution_count": null,
   "metadata": {
    "execution": {
     "iopub.execute_input": "2024-10-14T20:57:46.571047Z",
     "iopub.status.busy": "2024-10-14T20:57:46.570520Z",
     "iopub.status.idle": "2024-10-14T20:57:46.723075Z",
     "shell.execute_reply": "2024-10-14T20:57:46.721601Z",
     "shell.execute_reply.started": "2024-10-14T20:57:46.570998Z"
    },
    "trusted": true
   },
   "outputs": [],
   "source": [
    "# Save the model\n",
    "model.save('crop_disease_detection_custom_cnn.h5')"
   ]
  },
  {
   "cell_type": "markdown",
   "metadata": {},
   "source": [
    "**NEW SECTION**"
   ]
  },
  {
   "cell_type": "code",
   "execution_count": null,
   "metadata": {
    "execution": {
     "iopub.execute_input": "2024-10-23T05:06:01.894581Z",
     "iopub.status.busy": "2024-10-23T05:06:01.893759Z",
     "iopub.status.idle": "2024-10-23T05:06:03.008048Z",
     "shell.execute_reply": "2024-10-23T05:06:03.006944Z",
     "shell.execute_reply.started": "2024-10-23T05:06:01.894533Z"
    },
    "trusted": true
   },
   "outputs": [],
   "source": [
    "import tensorflow as tf\n",
    "from tensorflow.keras.preprocessing import image\n",
    "import numpy as np\n",
    "import pandas as pd\n",
    "from PIL import Image\n",
    "\n",
    "# Load the CSV file containing disease information\n",
    "disease_info_df = pd.read_csv('/kaggle/input/symptoms-solution/detailedcropsolutions.csv')\n",
    "\n",
    "# Convert the CSV into a dictionary for easy lookup\n",
    "disease_info = {}\n",
    "for _, row in disease_info_df.iterrows():\n",
    "    disease_info[row['Disease']] = {\n",
    "        \"symptom\": row['Symptom'],\n",
    "        \"solution\": row['Solution'],\n",
    "        \"early_detection_symptom\": row['Early Detection Symptom']\n",
    "    }\n",
    "\n",
    "# Load the trained model (adjust the path to your model as necessary)\n",
    "model = tf.keras.models.load_model('/kaggle/input/cnn_model/tensorflow2/default/1/crop_disease_detection_custom_cnn.h5')\n",
    "\n",
    "# Preprocess the image for prediction\n",
    "def preprocess_image(img_path):\n",
    "    img = Image.open(img_path)\n",
    "    img = img.resize((128, 128))  # Resize to match model's expected input size\n",
    "    img = img.convert('RGB')      # Ensure it's in RGB mode\n",
    "    img_array = np.array(img)\n",
    "    img_array = img_array / 255.0  # Normalize the image\n",
    "    img_array = np.expand_dims(img_array, axis=0)  # Add batch dimension\n",
    "    return img_array\n",
    "\n",
    "# Function to predict the disease and return symptoms and solutions\n",
    "def predict_disease(img_path):\n",
    "    # Preprocess the image\n",
    "    img_array = preprocess_image(img_path)\n",
    "    \n",
    "    # Make a prediction\n",
    "    predictions = model.predict(img_array)\n",
    "    \n",
    "    # Get the class with the highest predicted probability\n",
    "    predicted_class_index = np.argmax(predictions[0])\n",
    "    \n",
    "    # Define the crop and disease class names based on the training set\n",
    "    class_names = [\n",
    "        'Corn___Common_Rust', 'Corn___Gray_Leaf_Spot', 'Corn___Northern_Leaf_Blight', 'Corn___Healthy',\n",
    "        'Cotton___Alternaria', 'Cotton___Healthy', 'Cotton___Mealybug_Attack', 'Cotton___Potassium_Deficiency',\n",
    "        'Cotton___Thrip', 'Cotton___White_Flies', 'Potato___Early_Blight', 'Potato___Healthy', 'Potato___Late_Blight',\n",
    "        'Rice___Brown_Spot', 'Rice___Healthy', 'Rice___Leaf_Blast', 'Rice___Neck_Blast', \n",
    "        'Sugarcane___Bacterial Blight', 'Sugarcane___Healthy', 'Sugarcane___Red Rot',\n",
    "        'Wheat___Brown_Rust', 'Wheat___Healthy', 'Wheat___Yellow_Rust'\n",
    "    ]\n",
    "    \n",
    "    predicted_class = class_names[predicted_class_index]\n",
    "    \n",
    "    # Get the disease information\n",
    "    disease_data = disease_info.get(predicted_class, {\n",
    "        \"symptom\": \"Unknown\",\n",
    "        \"solution\": \"Unknown\",\n",
    "        \"early_detection_symptom\": \"Unknown\"\n",
    "    })\n",
    "    \n",
    "    # Output the prediction result\n",
    "    result = {\n",
    "        \"Predicted Crop and Disease\": predicted_class,\n",
    "        \"Symptoms\": disease_data['symptom'],\n",
    "        \"Solution\": disease_data['solution'],\n",
    "    }\n",
    "    \n",
    "    return result\n",
    "\n",
    "image_path = '/kaggle/input/test-images-final/Corn Common Rust.jpg'\n",
    "prediction_output = predict_disease(image_path)\n",
    "prediction_output\n"
   ]
  },
  {
   "cell_type": "code",
   "execution_count": null,
   "metadata": {},
   "outputs": [],
   "source": []
  }
 ],
 "metadata": {
  "kaggle": {
   "accelerator": "none",
   "dataSources": [
    {
     "datasetId": 5875447,
     "sourceId": 9625658,
     "sourceType": "datasetVersion"
    },
    {
     "datasetId": 5907863,
     "sourceId": 9668260,
     "sourceType": "datasetVersion"
    },
    {
     "datasetId": 5912164,
     "sourceId": 9674034,
     "sourceType": "datasetVersion"
    },
    {
     "modelId": 142065,
     "modelInstanceId": 118814,
     "sourceId": 140287,
     "sourceType": "modelInstanceVersion"
    }
   ],
   "dockerImageVersionId": 30786,
   "isGpuEnabled": false,
   "isInternetEnabled": false,
   "language": "python",
   "sourceType": "notebook"
  },
  "kernelspec": {
   "display_name": "Python 3",
   "language": "python",
   "name": "python3"
  },
  "language_info": {
   "codemirror_mode": {
    "name": "ipython",
    "version": 3
   },
   "file_extension": ".py",
   "mimetype": "text/x-python",
   "name": "python",
   "nbconvert_exporter": "python",
   "pygments_lexer": "ipython3",
   "version": "3.10.14"
  }
 },
 "nbformat": 4,
 "nbformat_minor": 4
}
